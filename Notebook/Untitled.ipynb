{
 "cells": [
  {
   "cell_type": "markdown",
   "id": "46cba56f",
   "metadata": {},
   "source": [
    "## Importing Libraries "
   ]
  },
  {
   "cell_type": "markdown",
   "id": "4b946d1e",
   "metadata": {},
   "source": [
    "## Data"
   ]
  },
  {
   "cell_type": "code",
   "execution_count": 8,
   "id": "d5cd70eb",
   "metadata": {},
   "outputs": [],
   "source": [
    "import numpy as np\n",
    "import pandas as pd \n",
    "import matplotlib.pyplot as plt\n",
    "\n",
    "import os\n",
    "import cv2\n",
    "\n",
    "from PIL import Image\n",
    "\n",
    "import keras\n",
    "\n",
    "from tensorflow import keras \n",
    "import tensorflow.keras as k \n",
    "from tensorflow.keras.layers import Conv2D, MaxPool2D, BatchNormalization, Dropout, Flatten, Dense \n",
    "\n",
    "from tqdm.notebook import tqdm "
   ]
  },
  {
   "cell_type": "code",
   "execution_count": 9,
   "id": "3ecf24d0",
   "metadata": {},
   "outputs": [],
   "source": [
    "from keras.preprocessing.image import ImageDataGenerator, load_img"
   ]
  },
  {
   "cell_type": "code",
   "execution_count": 10,
   "id": "d1607ec1",
   "metadata": {},
   "outputs": [
    {
     "data": {
      "image/png": "[encoded data removed]",
      "text/plain": [
       "<PIL.Image.Image image mode=RGB size=64x64>"
      ]
     },
     "execution_count": 10,
     "metadata": {},
     "output_type": "execute_result"
    }
   ],
   "source": [
    "load_img(\"../Notebook/cell_images/Parasitized/C100P61ThinF_IMG_20150918_144104_cell_162.png\", target_size= (64,64))"
   ]
  },
  {
   "cell_type": "code",
   "execution_count": 11,
   "id": "e1612133",
   "metadata": {},
   "outputs": [
    {
     "data": {
      "image/png": "[encoded data removed]",
      "text/plain": [
       "<PIL.Image.Image image mode=RGB size=64x64>"
      ]
     },
     "execution_count": 11,
     "metadata": {},
     "output_type": "execute_result"
    }
   ],
   "source": [
    "load_img(\"../Notebook/cell_images/Uninfected/C100P61ThinF_IMG_20150918_144348_cell_108.png\", target_size = (64,64))"
   ]
  },
  {
   "cell_type": "code",
   "execution_count": 12,
   "id": "030d0cde",
   "metadata": {},
   "outputs": [],
   "source": [
    "os.environ['KERAS_BACKEND'] = 'tensorflow'\n",
    "np.random.seed(312)"
   ]
  },
  {
   "cell_type": "code",
   "execution_count": 17,
   "id": "c277e0e3",
   "metadata": {},
   "outputs": [],
   "source": [
    "image_dir = \"../Notebook/cell_images/\"\n",
    "size = 64\n",
    "dataset = []\n",
    "label = []\n"
   ]
  },
  {
   "cell_type": "code",
   "execution_count": 19,
   "id": "97ad3e37",
   "metadata": {},
   "outputs": [
    {
     "data": {
      "application/vnd.jupyter.widget-view+json": {
       "model_id": "9fe72f566b3241c29513bd9d91b33806",
       "version_major": 2,
       "version_minor": 0
      },
      "text/plain": [
       "  0%|          | 0/13800 [00:00<?, ?it/s]"
      ]
     },
     "metadata": {},
     "output_type": "display_data"
    }
   ],
   "source": [
    "parasitized_img = os.listdir(image_dir+\"Parasitized/\")\n",
    "parasitized_img = parasitized_img\n",
    "\n",
    "for i, img_name in enumerate(tqdm(parasitized_img)):\n",
    "    if(img_name.split('.')[1] == 'png'):\n",
    "        image = cv2.imread(image_dir+\"Parasitized/\" + img_name)\n",
    "        image = Image.fromarray(image, 'RGB')\n",
    "        image = image.resize((size, size)) \n",
    "        \n",
    "        dataset.append(np.array(image))\n",
    "        label.append(0)"
   ]
  },
  {
   "cell_type": "code",
   "execution_count": 20,
   "id": "beb010f9",
   "metadata": {},
   "outputs": [
    {
     "data": {
      "text/plain": [
       "13800"
      ]
     },
     "execution_count": 20,
     "metadata": {},
     "output_type": "execute_result"
    }
   ],
   "source": [
    "len(parasitized_img)"
   ]
  },
  {
   "cell_type": "code",
   "execution_count": 22,
   "id": "d1f0b49d",
   "metadata": {},
   "outputs": [
    {
     "data": {
      "application/vnd.jupyter.widget-view+json": {
       "model_id": "16d3fd69aa5c4b27975e04ecf676d111",
       "version_major": 2,
       "version_minor": 0
      },
      "text/plain": [
       "  0%|          | 0/13780 [00:00<?, ?it/s]"
      ]
     },
     "metadata": {},
     "output_type": "display_data"
    }
   ],
   "source": [
    "uninfected_img = os.listdir(image_dir+\"Uninfected/\")\n",
    "uninfected_img = uninfected_img\n",
    "\n",
    "for i, img_name in enumerate(tqdm(uninfected_img)):\n",
    "    if(img_name.split('.')[1] == 'png'):\n",
    "        image = cv2.imread(image_dir+\"Uninfected/\" + img_name)\n",
    "        image = Image.fromarray(image, 'RGB')\n",
    "        image = image.resize((size, size)) \n",
    "        \n",
    "        dataset.append(np.array(image))\n",
    "        label.append(1)"
   ]
  },
  {
   "cell_type": "code",
   "execution_count": 23,
   "id": "6ba6cd4e",
   "metadata": {},
   "outputs": [
    {
     "data": {
      "text/plain": [
       "13780"
      ]
     },
     "execution_count": 23,
     "metadata": {},
     "output_type": "execute_result"
    }
   ],
   "source": [
    "len(uninfected_img)"
   ]
  },
  {
   "cell_type": "code",
   "execution_count": null,
   "id": "6d783122",
   "metadata": {},
   "outputs": [],
   "source": []
  },
  {
   "cell_type": "code",
   "execution_count": 24,
   "id": "a1ed3fe6",
   "metadata": {},
   "outputs": [],
   "source": [
    "from sklearn.model_selection import train_test_split\n",
    "from keras.utils import to_categorical\n",
    "\n",
    "xtrain, xtest, ytrain, ytest = train_test_split(dataset, to_categorical(np.array(label)), test_size = 0.2,random_state= 0)"
   ]
  },
  {
   "cell_type": "markdown",
   "id": "d98ed41c",
   "metadata": {},
   "source": [
    "## CNN model architecture"
   ]
  },
  {
   "cell_type": "code",
   "execution_count": 25,
   "id": "bdc1efe3",
   "metadata": {},
   "outputs": [],
   "source": [
    "INPUT_SHAPE= (size, size, 3)\n",
    "\n",
    "#input  layer \n",
    "inp = k.Input(shape = INPUT_SHAPE)\n",
    "\n",
    "#Convolution layer 1\n",
    "conv1 = Conv2D(32, kernel_size =(3,3), activation  = 'relu', padding = \"same\")(inp)\n",
    "pool1 = MaxPool2D(pool_size = (2,2))(conv1)\n",
    "norm1 = BatchNormalization(axis = -1)(pool1)\n",
    "drop1 = Dropout(rate = 0.2)(norm1)\n",
    "\n",
    "#Convolution layer  2\n",
    "conv2 = Conv2D(32, kernel_size =(3,3), activation  = 'relu', padding = \"same\")(drop1)\n",
    "pool2 = MaxPool2D(pool_size = (2,2))(conv2)\n",
    "norm2 = BatchNormalization(axis = -1)(pool2)\n",
    "drop2 = Dropout(rate = 0.2)(norm2)\n",
    "\n",
    "flat = Flatten()(drop2)\n",
    "\n",
    "#hidden layer 1\n",
    "hidden1 = Dense(512, activation = 'relu')(flat)\n",
    "norm3 = BatchNormalization(axis = -1)(hidden1)\n",
    "drop3 = Dropout(rate = 0.2)(norm3)\n",
    "\n",
    "hidden2 = Dense(256, activation = 'relu')(drop3)\n",
    "norm4 = BatchNormalization(axis = -1)(hidden2)\n",
    "drop4 = Dropout(rate = 0.2)(norm4)\n",
    "\n",
    "out = Dense(2, activation  = 'sigmoid')(drop4)\n"
   ]
  },
  {
   "cell_type": "code",
   "execution_count": 28,
   "id": "c3fbbf92",
   "metadata": {},
   "outputs": [
    {
     "name": "stdout",
     "output_type": "stream",
     "text": [
      "Model: \"model\"\n",
      "_________________________________________________________________\n",
      " Layer (type)                Output Shape              Param #   \n",
      "=================================================================\n",
      " input_1 (InputLayer)        [(None, 64, 64, 3)]       0         \n",
      "                                                                 \n",
      " conv2d (Conv2D)             (None, 64, 64, 32)        896       \n",
      "                                                                 \n",
      " max_pooling2d (MaxPooling2  (None, 32, 32, 32)        0         \n",
      " D)                                                              \n",
      "                                                                 \n",
      " batch_normalization (Batch  (None, 32, 32, 32)        128       \n",
      " Normalization)                                                  \n",
      "                                                                 \n",
      " dropout (Dropout)           (None, 32, 32, 32)        0         \n",
      "                                                                 \n",
      " conv2d_1 (Conv2D)           (None, 32, 32, 32)        9248      \n",
      "                                                                 \n",
      " max_pooling2d_1 (MaxPoolin  (None, 16, 16, 32)        0         \n",
      " g2D)                                                            \n",
      "                                                                 \n",
      " batch_normalization_1 (Bat  (None, 16, 16, 32)        128       \n",
      " chNormalization)                                                \n",
      "                                                                 \n",
      " dropout_1 (Dropout)         (None, 16, 16, 32)        0         \n",
      "                                                                 \n",
      " flatten (Flatten)           (None, 8192)              0         \n",
      "                                                                 \n",
      " dense (Dense)               (None, 512)               4194816   \n",
      "                                                                 \n",
      " batch_normalization_2 (Bat  (None, 512)               2048      \n",
      " chNormalization)                                                \n",
      "                                                                 \n",
      " dropout_2 (Dropout)         (None, 512)               0         \n",
      "                                                                 \n",
      " dense_1 (Dense)             (None, 256)               131328    \n",
      "                                                                 \n",
      " batch_normalization_3 (Bat  (None, 256)               1024      \n",
      " chNormalization)                                                \n",
      "                                                                 \n",
      " dropout_3 (Dropout)         (None, 256)               0         \n",
      "                                                                 \n",
      " dense_2 (Dense)             (None, 2)                 514       \n",
      "                                                                 \n",
      "=================================================================\n",
      "Total params: 4340130 (16.56 MB)\n",
      "Trainable params: 4338466 (16.55 MB)\n",
      "Non-trainable params: 1664 (6.50 KB)\n",
      "_________________________________________________________________\n",
      "None\n"
     ]
    }
   ],
   "source": [
    "model = keras.Model(inputs = inp, outputs= out)\n",
    "model.compile(optimizer = 'adam',\n",
    "              loss = \"categorical_crossentropy\",metrics = ['accuracy'])\n",
    "\n",
    "print(model.summary())"
   ]
  },
  {
   "cell_type": "code",
   "execution_count": 29,
   "id": "fb53a954",
   "metadata": {},
   "outputs": [
    {
     "name": "stdout",
     "output_type": "stream",
     "text": [
      "Epoch 1/5\n",
      "378/378 [==============================] - 142s 368ms/step - loss: 0.5172 - accuracy: 0.7653 - val_loss: 0.6811 - val_accuracy: 0.8121\n",
      "Epoch 2/5\n",
      "378/378 [==============================] - 139s 368ms/step - loss: 0.2356 - accuracy: 0.9105 - val_loss: 0.4388 - val_accuracy: 0.8671\n",
      "Epoch 3/5\n",
      "378/378 [==============================] - 129s 340ms/step - loss: 0.1909 - accuracy: 0.9281 - val_loss: 0.2581 - val_accuracy: 0.9092\n",
      "Epoch 4/5\n",
      "378/378 [==============================] - 133s 351ms/step - loss: 0.1693 - accuracy: 0.9379 - val_loss: 0.2118 - val_accuracy: 0.9289\n",
      "Epoch 5/5\n",
      "378/378 [==============================] - 133s 351ms/step - loss: 0.1496 - accuracy: 0.9446 - val_loss: 0.2295 - val_accuracy: 0.9215\n"
     ]
    }
   ],
   "source": [
    "history = model.fit(np.array(xtrain), ytrain, \n",
    "                    batch_size= 64, verbose = 1, epochs = 5, validation_split=0.1,\n",
    "                   shuffle = False)"
   ]
  },
  {
   "cell_type": "code",
   "execution_count": 30,
   "id": "7e9e3194",
   "metadata": {},
   "outputs": [
    {
     "name": "stdout",
     "output_type": "stream",
     "text": [
      "210/210 [==============================] - 11s 52ms/step - loss: 0.2585 - accuracy: 0.9117\n",
      "Test_Accuracy :91.17%\n"
     ]
    }
   ],
   "source": [
    "print(\"Test_Accuracy :{:.2f}%\".format(model.evaluate(np.array(xtest), np.array(ytest))[1]*100))"
   ]
  },
  {
   "cell_type": "markdown",
   "id": "d196c47a",
   "metadata": {},
   "source": [
    "## Data visualization "
   ]
  },
  {
   "cell_type": "code",
   "execution_count": 31,
   "id": "569b7771",
   "metadata": {},
   "outputs": [
    {
     "data": {
      "image/png": "[encoded data removed]",
      "text/plain": [
       "<Figure size 1200x400 with 2 Axes>"
      ]
     },
     "metadata": {},
     "output_type": "display_data"
    }
   ],
   "source": [
    "f, (ax1, ax2) = plt.subplots(1,2,figsize = (12,4))\n",
    "t = f.suptitle('CNN Performance', fontsize = 12)\n",
    "f.subplots_adjust(top = 0.85, wspace = 0.3)\n",
    "\n",
    "max_epoch = len(history.history['accuracy']) + 1\n",
    "epoch_list = list(range(1,max_epoch))\n",
    "ax1.plot(epoch_list, history.history['accuracy'], label  = 'Train Accuracy')\n",
    "ax1.plot(epoch_list, history.history['val_accuracy'], label  = 'Validation Accuracy')\n",
    "ax1.set_xticks(np.arange(1, max_epoch,5))\n",
    "ax1.set_ylabel('Accuracy value')\n",
    "ax1.set_xlabel('Epoch')\n",
    "ax1.set_title('Accuracy')\n",
    "\n",
    "ax2.plot(epoch_list, history.history['loss'], label = 'Train Loss')\n",
    "ax2.plot(epoch_list, history.history['val_loss'], label = 'Validation Loss')\n",
    "ax2.set_xticks(np.arange(1, max_epoch,5))\n",
    "ax2.set_ylabel('Loss value')\n",
    "ax2.set_xlabel('Epoch')\n",
    "ax2.set_title('Loss')\n",
    "l2 = ax2.legend(loc= 'best')"
   ]
  },
  {
   "cell_type": "code",
   "execution_count": 32,
   "id": "f512913d",
   "metadata": {},
   "outputs": [
    {
     "name": "stderr",
     "output_type": "stream",
     "text": [
      "C:\\Users\\lenovo\\anaconda3\\anaconda3\\Lib\\site-packages\\keras\\src\\engine\\training.py:3000: UserWarning: You are saving your model as an HDF5 file via `model.save()`. This file format is considered legacy. We recommend using instead the native Keras format, e.g. `model.save('my_model.keras')`.\n",
      "  saving_api.save_model(\n"
     ]
    }
   ],
   "source": [
    "model.save(\"../Project/malaria_cell_detection.h5\")\n"
   ]
  },
  {
   "cell_type": "code",
   "execution_count": null,
   "id": "28c6eb2d",
   "metadata": {},
   "outputs": [],
   "source": []
  }
 ],
 "metadata": {
  "kernelspec": {
   "display_name": "Python 3 (ipykernel)",
   "language": "python",
   "name": "python3"
  },
  "language_info": {
   "codemirror_mode": {
    "name": "ipython",
    "version": 3
   },
   "file_extension": ".py",
   "mimetype": "text/x-python",
   "name": "python",
   "nbconvert_exporter": "python",
   "pygments_lexer": "ipython3",
   "version": "3.11.3"
  }
 },
 "nbformat": 4,
 "nbformat_minor": 5
}
